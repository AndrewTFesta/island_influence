{
 "cells": [
  {
   "cell_type": "code",
   "execution_count": null,
   "outputs": [],
   "source": [
    "import math\n",
    "from functools import partial\n",
    "\n",
    "import numpy as np\n",
    "import pandas as pd\n",
    "import pygame\n",
    "from IPython.core.display import Image\n",
    "\n",
    "from island_influence.utils import deterministic_ring, random_ring\n",
    "\n",
    "%load_ext autoreload"
   ],
   "metadata": {
    "collapsed": false
   },
   "id": "1f696839ced2d744"
  },
  {
   "cell_type": "code",
   "execution_count": null,
   "outputs": [],
   "source": [
    "seed = None\n",
    "\n",
    "num_harvesters = 4\n",
    "num_excavators = 4\n",
    "num_obstacles = 4\n",
    "num_pois = 4\n",
    "\n",
    "scale_factor = 1\n",
    "\n",
    "harvester_bounds = np.asarray([0, 3]) * scale_factor\n",
    "excavator_bounds = np.asarray([0, 3]) * scale_factor\n",
    "obstacle_bounds = np.asarray([5, 8]) * scale_factor\n",
    "poi_bounds = np.asarray([10, 13]) * scale_factor\n",
    "center_loc = (5, 5)\n",
    "\n",
    "types_num = {\n",
    "    'harvester': num_harvesters,\n",
    "    'excavator': num_excavators,\n",
    "    'obstacle': num_obstacles,\n",
    "    'poi': num_pois,\n",
    "}\n",
    "\n",
    "_info = {\n",
    "    'harvester': {'observation_radius': 5, 'size': 1, 'weight': 1, 'value': 1, 'agent_type': 0},\n",
    "    'excavator': {'observation_radius': 5, 'size': 1, 'weight': 1, 'value': 1, 'agent_type': 1},\n",
    "    'obstacle': {'observation_radius': 1, 'size': 1, 'weight': 1, 'value': 1, 'agent_type': 2},\n",
    "    'poi': {'observation_radius': 1, 'size': 1, 'weight': 1, 'value': 1, 'agent_type': 3},\n",
    "}\n",
    "\n",
    "type_map = {\n",
    "    info['agent_type']: agent_type\n",
    "    for agent_type, info in _info.items()\n",
    "}\n",
    "\n",
    "harvester_locs = partial(random_ring, center=center_loc, min_rad=harvester_bounds[0], max_rad=harvester_bounds[1])\n",
    "excavator_locs = partial(random_ring, center=center_loc, min_rad=excavator_bounds[0], max_rad=excavator_bounds[1])\n",
    "obstacle_locs = partial(deterministic_ring, center=center_loc, radius=np.average(obstacle_bounds))\n",
    "poi_locs = partial(deterministic_ring, center=center_loc, radius=np.average(poi_bounds))\n",
    "location_funcs = {\n",
    "    'harvesters': harvester_locs,\n",
    "    'excavators': excavator_locs,\n",
    "    'obstacles': obstacle_locs,\n",
    "    'pois': poi_locs,\n",
    "}"
   ],
   "metadata": {
    "collapsed": false
   },
   "id": "initial_id"
  },
  {
   "cell_type": "code",
   "execution_count": null,
   "outputs": [],
   "source": [
    "# create set of points for harvesters\n",
    "# create set of points for excavators\n",
    "# create set of points for obstacles\n",
    "# create set of points for pois\n",
    "harvester_locs = location_funcs['harvesters'](num_points=types_num['harvester'], seed=seed)\n",
    "excavator_locs = location_funcs['excavators'](num_points=types_num['excavator'], seed=seed)\n",
    "obstacle_locs = location_funcs['obstacles'](num_points=types_num['obstacle'], seed=seed)\n",
    "poi_locs = location_funcs['pois'](num_points=types_num['poi'], seed=seed)\n",
    "locs = {'harvester': harvester_locs, 'excavator': excavator_locs, 'obstacle': obstacle_locs, 'poi': poi_locs}\n",
    "\n",
    "keys = ['harvester', 'excavator', 'obstacle', 'poi']\n",
    "entries = [\n",
    "    {'name': f'{each_key}:{loc_idx}', **{f'location_{idx}': val for idx, val in enumerate(each_loc)}, **_info[each_key]}\n",
    "    for each_key in keys\n",
    "    for loc_idx, each_loc in enumerate(locs[each_key])\n",
    "]\n",
    "state = pd.DataFrame(entries)"
   ],
   "metadata": {
    "collapsed": false
   },
   "id": "73f3c84b87110e1b"
  },
  {
   "cell_type": "code",
   "execution_count": null,
   "outputs": [],
   "source": [
    "render_scale = 2\n",
    "agent_locations = state.loc[:, state.columns.str.startswith('loc')]\n",
    "\n",
    "min_loc = np.min(agent_locations, axis=0)\n",
    "max_loc = np.max(agent_locations, axis=0)\n",
    "\n",
    "delta_x = max_loc[0] - min_loc[0]\n",
    "delta_y = max_loc[1] - min_loc[1]\n",
    "\n",
    "render_bound = math.ceil(max(delta_x, delta_y))\n",
    "render_bound = render_bound * render_scale\n",
    "location_offset = render_bound // (render_scale * 2)"
   ],
   "metadata": {
    "collapsed": false
   },
   "id": "9192f40ab48b4853"
  },
  {
   "cell_type": "code",
   "execution_count": null,
   "outputs": [],
   "source": [
    "window_size = 512\n",
    "\n",
    "black = (0, 0, 0)\n",
    "white = (255, 255, 255)\n",
    "\n",
    "# The size of a single grid square in pixels\n",
    "pix_square_size = (window_size / render_bound)\n",
    "\n",
    "agent_colors = {'harvester': (0, 255, 0), 'excavator': (0, 0, 255), 'obstacle': black, 'poi': (255, 0, 0)}\n",
    "default_color = (128, 128, 128)\n",
    "\n",
    "agent_sizes = {'harvester': 0.25, 'excavator': 0.25, 'obstacle': 0.25, 'poi': 0.25}\n",
    "default_size = 0.1\n",
    "size_scalar = 1\n",
    "size_width = 2\n",
    "obs_width = 1\n",
    "\n",
    "text_size = 14\n",
    "write_values = False\n",
    "write_legend = True\n",
    "render_fps = 4"
   ],
   "metadata": {
    "collapsed": false
   },
   "id": "7787ab4e5d466bc3"
  },
  {
   "cell_type": "code",
   "execution_count": null,
   "outputs": [],
   "source": [
    "def get_object_state(full_state: pd.DataFrame, object_name):\n",
    "    object_state = state[full_state['name'] == object_name]\n",
    "    object_state = object_state.iloc[0]\n",
    "    return object_state\n",
    "\n",
    "def get_object_location(object_state: pd.Series):\n",
    "    a_locations = object_state.loc[['location_0', 'location_1']]\n",
    "    return a_locations"
   ],
   "metadata": {
    "collapsed": false
   },
   "id": "c8e7da0a509cee8a"
  },
  {
   "cell_type": "code",
   "execution_count": null,
   "outputs": [],
   "source": [
    "pygame.init()\n",
    "pygame.display.init()\n",
    "pygame.font.init()\n",
    "window = pygame.display.set_mode((window_size, window_size))\n",
    "clock = pygame.time.Clock()\n",
    "\n",
    "canvas = pygame.Surface((window_size, window_size))\n",
    "canvas.fill(white)\n",
    "pygame.font.init()\n",
    "font = pygame.font.SysFont('arial', text_size)\n",
    "\n",
    "for ridx, agent in state.iterrows():  \n",
    "    agent_idx = agent['agent_type']\n",
    "    obs_radius = agent['observation_radius']\n",
    "    size_radius = agent['size']\n",
    "    agent_value = agent['value']\n",
    "\n",
    "    # # only render the object if it has not been removed by an excavator\n",
    "    # if agent_value <= 0:\n",
    "    #     continue\n",
    "    \n",
    "    agent_type = type_map[agent_idx]\n",
    "    location = get_object_location(agent).to_numpy()\n",
    "    location = location + location_offset\n",
    "    \n",
    "    acolor = agent_colors.get(agent_type, default_color)\n",
    "    asize = agent_sizes.get(agent_type, default_size)\n",
    "    asize *= size_scalar\n",
    "    \n",
    "    pygame.draw.circle(canvas, acolor, (location + 0.5) * pix_square_size, pix_square_size * size_radius, width=size_width)\n",
    "    pygame.draw.circle(canvas, black, (location + 0.5) * pix_square_size, pix_square_size * asize)\n",
    "    # pygame.draw.circle(canvas, acolor, (location + 0.5) * pix_square_size, pix_square_size * obs_radius, width=obs_width)\n",
    "\n",
    "# The following line copies our drawings from `canvas` to the visible window\n",
    "window.blit(canvas, canvas.get_rect())\n",
    "pygame.event.pump()\n",
    "pygame.display.update()\n",
    "\n",
    "# We need to ensure that human-rendering occurs at the predefined framerate.\n",
    "# The following line will automatically add a delay to keep the framerate stable.\n",
    "clock.tick(render_fps)\n",
    "\n",
    "pygame.display.flip()\n",
    "pygame.image.save(window, 'frame.png')\n",
    "display(Image(filename='frame.png'))\n",
    "\n",
    "pygame.quit()"
   ],
   "metadata": {
    "collapsed": false
   },
   "id": "2eb11b95fc4e0fe7"
  }
 ],
 "metadata": {
  "kernelspec": {
   "display_name": "Python 3",
   "language": "python",
   "name": "python3"
  },
  "language_info": {
   "codemirror_mode": {
    "name": "ipython",
    "version": 2
   },
   "file_extension": ".py",
   "mimetype": "text/x-python",
   "name": "python",
   "nbconvert_exporter": "python",
   "pygments_lexer": "ipython2",
   "version": "2.7.6"
  }
 },
 "nbformat": 4,
 "nbformat_minor": 5
}
